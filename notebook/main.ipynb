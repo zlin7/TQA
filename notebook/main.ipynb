{
 "cells": [
  {
   "cell_type": "code",
   "execution_count": 1,
   "id": "corresponding-carrier",
   "metadata": {},
   "outputs": [],
   "source": [
    "import sys; sys.path.append(\"..\")\n",
    "from importlib import reload\n",
    "import utils.main_experiments as tbr; reload(tbr)\n",
    "import utils.evaluate as eval_utils; reload(eval_utils)\n",
    "import data.online_dataset as dld; reload(dld)\n",
    "import numpy as np\n",
    "import pandas as pd\n",
    "import scipy.stats\n",
    "\n",
    "import matplotlib.pyplot as plt\n",
    "%matplotlib inline\n",
    "\n",
    "\n",
    "DATASETS = ['GEFCom-R'] #+ [ 'COVID', 'MIMIC', 'claim', 'GEFCom-R', 'EEG']\n",
    "NSEEDS = 2\n",
    "KEEP_TAIL_T = 20 # or None\n",
    "\n",
    "MAX_Ts = {dataset: dld.get_horizon(dataset) for dataset in DATASETS}\n",
    "N_TAILS = {dataset: int(np.ceil(0.1 * dld.get_default_ntest(dataset))) for dataset in DATASETS}\n",
    "DATASETS_MAP = {_: r\"\\data{}\".format(_).replace(\"-\", \"\") for _ in DATASETS}\n",
    "DISPLAY_DATASETS_MAP = {\"MIMIC\": \"MIMIC\", \"COVID\":\"COVID\", \"EEG\":\"EEG\", \"GEFCom\":\"GEFCom\", \"GEFCom-R\": \"GEFCom-R\", 'claim': \"CLAIM\"}\n",
    "METHODS = ['TQA-B', \"TQA-E\"] + ['CFRNN'] + ['CQRNN', 'LASplit'] + ['QRNN', 'DPRNN']\n",
    "METHOD_MAP = {m:m for m in METHODS}\n",
    "\n",
    "NON_CONFORMALS = ['QRNN', 'DPRNN']"
   ]
  },
  {
   "cell_type": "code",
   "execution_count": 2,
   "id": "dec0a15e",
   "metadata": {
    "scrolled": true
   },
   "outputs": [
    {
     "name": "stderr",
     "output_type": "stream",
     "text": [
      "eval test: 100%|███████████████████████████████████████████████████████████████████████| 22/22 [00:01<00:00, 21.75it/s]\n",
      "..\\utils\\evaluate.py:58: SettingWithCopyWarning: \n",
      "A value is trying to be set on a copy of a slice from a DataFrame.\n",
      "Try using .loc[row_indexer,col_indexer] = value instead\n",
      "\n",
      "See the caveats in the documentation: https://pandas.pydata.org/pandas-docs/stable/user_guide/indexing.html#returning-a-view-versus-a-copy\n",
      "  df['cov'] = (df['y'] <= df['ub']) & (df['y'] >= df['lb'])\n",
      "..\\utils\\evaluate.py:59: SettingWithCopyWarning: \n",
      "A value is trying to be set on a copy of a slice from a DataFrame.\n",
      "Try using .loc[row_indexer,col_indexer] = value instead\n",
      "\n",
      "See the caveats in the documentation: https://pandas.pydata.org/pandas-docs/stable/user_guide/indexing.html#returning-a-view-versus-a-copy\n",
      "  df['w'] = (df['ub'] - df['lb'])\n",
      "eval test: 100%|███████████████████████████████████████████████████████████████████████| 22/22 [00:01<00:00, 21.42it/s]\n",
      "..\\utils\\evaluate.py:58: SettingWithCopyWarning: \n",
      "A value is trying to be set on a copy of a slice from a DataFrame.\n",
      "Try using .loc[row_indexer,col_indexer] = value instead\n",
      "\n",
      "See the caveats in the documentation: https://pandas.pydata.org/pandas-docs/stable/user_guide/indexing.html#returning-a-view-versus-a-copy\n",
      "  df['cov'] = (df['y'] <= df['ub']) & (df['y'] >= df['lb'])\n",
      "..\\utils\\evaluate.py:59: SettingWithCopyWarning: \n",
      "A value is trying to be set on a copy of a slice from a DataFrame.\n",
      "Try using .loc[row_indexer,col_indexer] = value instead\n",
      "\n",
      "See the caveats in the documentation: https://pandas.pydata.org/pandas-docs/stable/user_guide/indexing.html#returning-a-view-versus-a-copy\n",
      "  df['w'] = (df['ub'] - df['lb'])\n"
     ]
    },
    {
     "name": "stdout",
     "output_type": "stream",
     "text": [
      "GEFCom-R TQA-B\n"
     ]
    },
    {
     "name": "stderr",
     "output_type": "stream",
     "text": [
      "eval test: 100%|███████████████████████████████████████████████████████████████████████| 22/22 [00:02<00:00,  9.44it/s]\n",
      "..\\utils\\evaluate.py:58: SettingWithCopyWarning: \n",
      "A value is trying to be set on a copy of a slice from a DataFrame.\n",
      "Try using .loc[row_indexer,col_indexer] = value instead\n",
      "\n",
      "See the caveats in the documentation: https://pandas.pydata.org/pandas-docs/stable/user_guide/indexing.html#returning-a-view-versus-a-copy\n",
      "  df['cov'] = (df['y'] <= df['ub']) & (df['y'] >= df['lb'])\n",
      "..\\utils\\evaluate.py:59: SettingWithCopyWarning: \n",
      "A value is trying to be set on a copy of a slice from a DataFrame.\n",
      "Try using .loc[row_indexer,col_indexer] = value instead\n",
      "\n",
      "See the caveats in the documentation: https://pandas.pydata.org/pandas-docs/stable/user_guide/indexing.html#returning-a-view-versus-a-copy\n",
      "  df['w'] = (df['ub'] - df['lb'])\n",
      "eval test: 100%|███████████████████████████████████████████████████████████████████████| 22/22 [00:02<00:00,  9.19it/s]\n",
      "..\\utils\\evaluate.py:58: SettingWithCopyWarning: \n",
      "A value is trying to be set on a copy of a slice from a DataFrame.\n",
      "Try using .loc[row_indexer,col_indexer] = value instead\n",
      "\n",
      "See the caveats in the documentation: https://pandas.pydata.org/pandas-docs/stable/user_guide/indexing.html#returning-a-view-versus-a-copy\n",
      "  df['cov'] = (df['y'] <= df['ub']) & (df['y'] >= df['lb'])\n",
      "..\\utils\\evaluate.py:59: SettingWithCopyWarning: \n",
      "A value is trying to be set on a copy of a slice from a DataFrame.\n",
      "Try using .loc[row_indexer,col_indexer] = value instead\n",
      "\n",
      "See the caveats in the documentation: https://pandas.pydata.org/pandas-docs/stable/user_guide/indexing.html#returning-a-view-versus-a-copy\n",
      "  df['w'] = (df['ub'] - df['lb'])\n"
     ]
    },
    {
     "name": "stdout",
     "output_type": "stream",
     "text": [
      "GEFCom-R TQA-E\n"
     ]
    },
    {
     "name": "stderr",
     "output_type": "stream",
     "text": [
      "eval test: 100%|███████████████████████████████████████████████████████████████████████| 22/22 [00:00<00:00, 66.41it/s]\n",
      "..\\utils\\evaluate.py:58: SettingWithCopyWarning: \n",
      "A value is trying to be set on a copy of a slice from a DataFrame.\n",
      "Try using .loc[row_indexer,col_indexer] = value instead\n",
      "\n",
      "See the caveats in the documentation: https://pandas.pydata.org/pandas-docs/stable/user_guide/indexing.html#returning-a-view-versus-a-copy\n",
      "  df['cov'] = (df['y'] <= df['ub']) & (df['y'] >= df['lb'])\n",
      "..\\utils\\evaluate.py:59: SettingWithCopyWarning: \n",
      "A value is trying to be set on a copy of a slice from a DataFrame.\n",
      "Try using .loc[row_indexer,col_indexer] = value instead\n",
      "\n",
      "See the caveats in the documentation: https://pandas.pydata.org/pandas-docs/stable/user_guide/indexing.html#returning-a-view-versus-a-copy\n",
      "  df['w'] = (df['ub'] - df['lb'])\n",
      "eval test: 100%|███████████████████████████████████████████████████████████████████████| 22/22 [00:00<00:00, 65.29it/s]\n",
      "..\\utils\\evaluate.py:58: SettingWithCopyWarning: \n",
      "A value is trying to be set on a copy of a slice from a DataFrame.\n",
      "Try using .loc[row_indexer,col_indexer] = value instead\n",
      "\n",
      "See the caveats in the documentation: https://pandas.pydata.org/pandas-docs/stable/user_guide/indexing.html#returning-a-view-versus-a-copy\n",
      "  df['cov'] = (df['y'] <= df['ub']) & (df['y'] >= df['lb'])\n",
      "..\\utils\\evaluate.py:59: SettingWithCopyWarning: \n",
      "A value is trying to be set on a copy of a slice from a DataFrame.\n",
      "Try using .loc[row_indexer,col_indexer] = value instead\n",
      "\n",
      "See the caveats in the documentation: https://pandas.pydata.org/pandas-docs/stable/user_guide/indexing.html#returning-a-view-versus-a-copy\n",
      "  df['w'] = (df['ub'] - df['lb'])\n"
     ]
    },
    {
     "name": "stdout",
     "output_type": "stream",
     "text": [
      "GEFCom-R CFRNN\n"
     ]
    },
    {
     "name": "stderr",
     "output_type": "stream",
     "text": [
      "eval test: 100%|███████████████████████████████████████████████████████████████████████| 22/22 [00:00<00:00, 57.42it/s]\n",
      "..\\utils\\evaluate.py:58: SettingWithCopyWarning: \n",
      "A value is trying to be set on a copy of a slice from a DataFrame.\n",
      "Try using .loc[row_indexer,col_indexer] = value instead\n",
      "\n",
      "See the caveats in the documentation: https://pandas.pydata.org/pandas-docs/stable/user_guide/indexing.html#returning-a-view-versus-a-copy\n",
      "  df['cov'] = (df['y'] <= df['ub']) & (df['y'] >= df['lb'])\n",
      "..\\utils\\evaluate.py:59: SettingWithCopyWarning: \n",
      "A value is trying to be set on a copy of a slice from a DataFrame.\n",
      "Try using .loc[row_indexer,col_indexer] = value instead\n",
      "\n",
      "See the caveats in the documentation: https://pandas.pydata.org/pandas-docs/stable/user_guide/indexing.html#returning-a-view-versus-a-copy\n",
      "  df['w'] = (df['ub'] - df['lb'])\n",
      "eval test: 100%|███████████████████████████████████████████████████████████████████████| 22/22 [00:00<00:00, 56.97it/s]\n",
      "..\\utils\\evaluate.py:58: SettingWithCopyWarning: \n",
      "A value is trying to be set on a copy of a slice from a DataFrame.\n",
      "Try using .loc[row_indexer,col_indexer] = value instead\n",
      "\n",
      "See the caveats in the documentation: https://pandas.pydata.org/pandas-docs/stable/user_guide/indexing.html#returning-a-view-versus-a-copy\n",
      "  df['cov'] = (df['y'] <= df['ub']) & (df['y'] >= df['lb'])\n",
      "..\\utils\\evaluate.py:59: SettingWithCopyWarning: \n",
      "A value is trying to be set on a copy of a slice from a DataFrame.\n",
      "Try using .loc[row_indexer,col_indexer] = value instead\n",
      "\n",
      "See the caveats in the documentation: https://pandas.pydata.org/pandas-docs/stable/user_guide/indexing.html#returning-a-view-versus-a-copy\n",
      "  df['w'] = (df['ub'] - df['lb'])\n"
     ]
    },
    {
     "name": "stdout",
     "output_type": "stream",
     "text": [
      "GEFCom-R CQRNN\n"
     ]
    },
    {
     "name": "stderr",
     "output_type": "stream",
     "text": [
      "eval test: 100%|███████████████████████████████████████████████████████████████████████| 22/22 [00:00<00:00, 54.22it/s]\n",
      "..\\utils\\evaluate.py:58: SettingWithCopyWarning: \n",
      "A value is trying to be set on a copy of a slice from a DataFrame.\n",
      "Try using .loc[row_indexer,col_indexer] = value instead\n",
      "\n",
      "See the caveats in the documentation: https://pandas.pydata.org/pandas-docs/stable/user_guide/indexing.html#returning-a-view-versus-a-copy\n",
      "  df['cov'] = (df['y'] <= df['ub']) & (df['y'] >= df['lb'])\n",
      "..\\utils\\evaluate.py:59: SettingWithCopyWarning: \n",
      "A value is trying to be set on a copy of a slice from a DataFrame.\n",
      "Try using .loc[row_indexer,col_indexer] = value instead\n",
      "\n",
      "See the caveats in the documentation: https://pandas.pydata.org/pandas-docs/stable/user_guide/indexing.html#returning-a-view-versus-a-copy\n",
      "  df['w'] = (df['ub'] - df['lb'])\n",
      "eval test: 100%|███████████████████████████████████████████████████████████████████████| 22/22 [00:00<00:00, 51.94it/s]\n",
      "..\\utils\\evaluate.py:58: SettingWithCopyWarning: \n",
      "A value is trying to be set on a copy of a slice from a DataFrame.\n",
      "Try using .loc[row_indexer,col_indexer] = value instead\n",
      "\n",
      "See the caveats in the documentation: https://pandas.pydata.org/pandas-docs/stable/user_guide/indexing.html#returning-a-view-versus-a-copy\n",
      "  df['cov'] = (df['y'] <= df['ub']) & (df['y'] >= df['lb'])\n",
      "..\\utils\\evaluate.py:59: SettingWithCopyWarning: \n",
      "A value is trying to be set on a copy of a slice from a DataFrame.\n",
      "Try using .loc[row_indexer,col_indexer] = value instead\n",
      "\n",
      "See the caveats in the documentation: https://pandas.pydata.org/pandas-docs/stable/user_guide/indexing.html#returning-a-view-versus-a-copy\n",
      "  df['w'] = (df['ub'] - df['lb'])\n"
     ]
    },
    {
     "name": "stdout",
     "output_type": "stream",
     "text": [
      "GEFCom-R LASplit\n"
     ]
    },
    {
     "name": "stderr",
     "output_type": "stream",
     "text": [
      "eval test: 100%|██████████████████████████████████████████████████████████████████████| 22/22 [00:00<00:00, 334.31it/s]\n",
      "..\\utils\\evaluate.py:58: SettingWithCopyWarning: \n",
      "A value is trying to be set on a copy of a slice from a DataFrame.\n",
      "Try using .loc[row_indexer,col_indexer] = value instead\n",
      "\n",
      "See the caveats in the documentation: https://pandas.pydata.org/pandas-docs/stable/user_guide/indexing.html#returning-a-view-versus-a-copy\n",
      "  df['cov'] = (df['y'] <= df['ub']) & (df['y'] >= df['lb'])\n",
      "..\\utils\\evaluate.py:59: SettingWithCopyWarning: \n",
      "A value is trying to be set on a copy of a slice from a DataFrame.\n",
      "Try using .loc[row_indexer,col_indexer] = value instead\n",
      "\n",
      "See the caveats in the documentation: https://pandas.pydata.org/pandas-docs/stable/user_guide/indexing.html#returning-a-view-versus-a-copy\n",
      "  df['w'] = (df['ub'] - df['lb'])\n",
      "eval test: 100%|██████████████████████████████████████████████████████████████████████| 22/22 [00:00<00:00, 307.14it/s]\n",
      "..\\utils\\evaluate.py:58: SettingWithCopyWarning: \n",
      "A value is trying to be set on a copy of a slice from a DataFrame.\n",
      "Try using .loc[row_indexer,col_indexer] = value instead\n",
      "\n",
      "See the caveats in the documentation: https://pandas.pydata.org/pandas-docs/stable/user_guide/indexing.html#returning-a-view-versus-a-copy\n",
      "  df['cov'] = (df['y'] <= df['ub']) & (df['y'] >= df['lb'])\n",
      "..\\utils\\evaluate.py:59: SettingWithCopyWarning: \n",
      "A value is trying to be set on a copy of a slice from a DataFrame.\n",
      "Try using .loc[row_indexer,col_indexer] = value instead\n",
      "\n",
      "See the caveats in the documentation: https://pandas.pydata.org/pandas-docs/stable/user_guide/indexing.html#returning-a-view-versus-a-copy\n",
      "  df['w'] = (df['ub'] - df['lb'])\n"
     ]
    },
    {
     "name": "stdout",
     "output_type": "stream",
     "text": [
      "GEFCom-R QRNN\n"
     ]
    },
    {
     "name": "stderr",
     "output_type": "stream",
     "text": [
      "eval test: 100%|███████████████████████████████████████████████████████████████████████| 22/22 [00:04<00:00,  4.47it/s]\n",
      "..\\utils\\evaluate.py:58: SettingWithCopyWarning: \n",
      "A value is trying to be set on a copy of a slice from a DataFrame.\n",
      "Try using .loc[row_indexer,col_indexer] = value instead\n",
      "\n",
      "See the caveats in the documentation: https://pandas.pydata.org/pandas-docs/stable/user_guide/indexing.html#returning-a-view-versus-a-copy\n",
      "  df['cov'] = (df['y'] <= df['ub']) & (df['y'] >= df['lb'])\n",
      "..\\utils\\evaluate.py:59: SettingWithCopyWarning: \n",
      "A value is trying to be set on a copy of a slice from a DataFrame.\n",
      "Try using .loc[row_indexer,col_indexer] = value instead\n",
      "\n",
      "See the caveats in the documentation: https://pandas.pydata.org/pandas-docs/stable/user_guide/indexing.html#returning-a-view-versus-a-copy\n",
      "  df['w'] = (df['ub'] - df['lb'])\n",
      "eval test: 100%|███████████████████████████████████████████████████████████████████████| 22/22 [00:04<00:00,  4.48it/s]"
     ]
    },
    {
     "name": "stdout",
     "output_type": "stream",
     "text": [
      "GEFCom-R DPRNN\n"
     ]
    },
    {
     "name": "stderr",
     "output_type": "stream",
     "text": [
      "\n",
      "..\\utils\\evaluate.py:58: SettingWithCopyWarning: \n",
      "A value is trying to be set on a copy of a slice from a DataFrame.\n",
      "Try using .loc[row_indexer,col_indexer] = value instead\n",
      "\n",
      "See the caveats in the documentation: https://pandas.pydata.org/pandas-docs/stable/user_guide/indexing.html#returning-a-view-versus-a-copy\n",
      "  df['cov'] = (df['y'] <= df['ub']) & (df['y'] >= df['lb'])\n",
      "..\\utils\\evaluate.py:59: SettingWithCopyWarning: \n",
      "A value is trying to be set on a copy of a slice from a DataFrame.\n",
      "Try using .loc[row_indexer,col_indexer] = value instead\n",
      "\n",
      "See the caveats in the documentation: https://pandas.pydata.org/pandas-docs/stable/user_guide/indexing.html#returning-a-view-versus-a-copy\n",
      "  df['w'] = (df['ub'] - df['lb'])\n"
     ]
    }
   ],
   "source": [
    "from collections import defaultdict\n",
    "ws, covs, cov_granular = [defaultdict(dict) for _ in range(3)]\n",
    "for dataset in DATASETS:\n",
    "    min_t = 0 if KEEP_TAIL_T is None else (MAX_Ts[dataset] - KEEP_TAIL_T)\n",
    "    assert min_t >= 0\n",
    "    pred_kwargs={\"update_cal\": True} if dataset == 'GEFCom' else {}\n",
    "    \n",
    "    for method in METHODS:\n",
    "        ws[dataset][method], covs[dataset][method], cov_granular[dataset][method] = tbr.summ_results(method, dataset, seeds=range(NSEEDS), min_t=min_t, pred_kwargs=pred_kwargs, summ_by_T=True)\n",
    "        print(dataset, method)"
   ]
  },
  {
   "cell_type": "code",
   "execution_count": 3,
   "id": "5d25a57c",
   "metadata": {},
   "outputs": [
    {
     "data": {
      "text/html": [
       "<div>\n",
       "<style scoped>\n",
       "    .dataframe tbody tr th:only-of-type {\n",
       "        vertical-align: middle;\n",
       "    }\n",
       "\n",
       "    .dataframe tbody tr th {\n",
       "        vertical-align: top;\n",
       "    }\n",
       "\n",
       "    .dataframe thead th {\n",
       "        text-align: right;\n",
       "    }\n",
       "</style>\n",
       "<table border=\"1\" class=\"dataframe\">\n",
       "  <thead>\n",
       "    <tr style=\"text-align: right;\">\n",
       "      <th></th>\n",
       "      <th>TQA-B</th>\n",
       "      <th>TQA-E</th>\n",
       "      <th>CFRNN</th>\n",
       "      <th>CQRNN</th>\n",
       "      <th>LASplit</th>\n",
       "      <th>QRNN</th>\n",
       "      <th>DPRNN</th>\n",
       "    </tr>\n",
       "  </thead>\n",
       "  <tbody>\n",
       "    <tr>\n",
       "      <th>GEFCom-R</th>\n",
       "      <td>0.906071</td>\n",
       "      <td>0.910536</td>\n",
       "      <td>0.897821</td>\n",
       "      <td>0.89875</td>\n",
       "      <td>0.901286</td>\n",
       "      <td>0.850857</td>\n",
       "      <td>0.904429</td>\n",
       "    </tr>\n",
       "  </tbody>\n",
       "</table>\n",
       "</div>"
      ],
      "text/plain": [
       "             TQA-B     TQA-E     CFRNN    CQRNN   LASplit      QRNN     DPRNN\n",
       "GEFCom-R  0.906071  0.910536  0.897821  0.89875  0.901286  0.850857  0.904429"
      ]
     },
     "execution_count": 3,
     "metadata": {},
     "output_type": "execute_result"
    }
   ],
   "source": [
    "# The Coverage Table\n",
    "cov_table = {}\n",
    "for dataset in DATASETS:\n",
    "    cov_dataset = pd.DataFrame({m: covs[dataset][m].mean(1) for m in METHODS})\n",
    "    cov_table[dataset] = cov_dataset.mean(0)\n",
    "pd.DataFrame(cov_table).T"
   ]
  },
  {
   "cell_type": "code",
   "execution_count": 4,
   "id": "8bc16b11",
   "metadata": {},
   "outputs": [
    {
     "data": {
      "text/html": [
       "<div>\n",
       "<style scoped>\n",
       "    .dataframe tbody tr th:only-of-type {\n",
       "        vertical-align: middle;\n",
       "    }\n",
       "\n",
       "    .dataframe tbody tr th {\n",
       "        vertical-align: top;\n",
       "    }\n",
       "\n",
       "    .dataframe thead th {\n",
       "        text-align: right;\n",
       "    }\n",
       "</style>\n",
       "<table border=\"1\" class=\"dataframe\">\n",
       "  <thead>\n",
       "    <tr style=\"text-align: right;\">\n",
       "      <th></th>\n",
       "      <th>TQA-B</th>\n",
       "      <th>TQA-E</th>\n",
       "      <th>CFRNN</th>\n",
       "      <th>CQRNN</th>\n",
       "      <th>LASplit</th>\n",
       "      <th>QRNN</th>\n",
       "      <th>DPRNN</th>\n",
       "    </tr>\n",
       "  </thead>\n",
       "  <tbody>\n",
       "    <tr>\n",
       "      <th>GEFCom-R</th>\n",
       "      <td>0.75</td>\n",
       "      <td>0.821071</td>\n",
       "      <td>0.6675</td>\n",
       "      <td>0.716786</td>\n",
       "      <td>0.692857</td>\n",
       "      <td>0.645</td>\n",
       "      <td>0.708571</td>\n",
       "    </tr>\n",
       "  </tbody>\n",
       "</table>\n",
       "</div>"
      ],
      "text/plain": [
       "          TQA-B     TQA-E   CFRNN     CQRNN   LASplit   QRNN     DPRNN\n",
       "GEFCom-R   0.75  0.821071  0.6675  0.716786  0.692857  0.645  0.708571"
      ]
     },
     "execution_count": 4,
     "metadata": {},
     "output_type": "execute_result"
    },
    {
     "data": {
      "image/png": "[encoded data removed]",
      "text/plain": [
       "<Figure size 432x288 with 1 Axes>"
      ]
     },
     "metadata": {
      "needs_background": "light"
     },
     "output_type": "display_data"
    }
   ],
   "source": [
    "# The UNSCALED TCR Table\n",
    "tcr_table = {}\n",
    "for dataset in DATASETS:\n",
    "    eval_utils.plot_coverage(covs[dataset], perc=10, nx=N_TAILS[dataset], rename_cols=METHOD_MAP, title=DISPLAY_DATASETS_MAP[dataset])\n",
    "    tcr_dataset = eval_utils.compare_tail_coverage(covs[dataset], tail_n=N_TAILS[dataset], quiet=True)\n",
    "    tcr_table[dataset] = tcr_dataset.mean(0)\n",
    "pd.DataFrame(tcr_table).T"
   ]
  },
  {
   "cell_type": "code",
   "execution_count": 5,
   "id": "8f71519f",
   "metadata": {
    "scrolled": false
   },
   "outputs": [
    {
     "data": {
      "text/html": [
       "<div>\n",
       "<style scoped>\n",
       "    .dataframe tbody tr th:only-of-type {\n",
       "        vertical-align: middle;\n",
       "    }\n",
       "\n",
       "    .dataframe tbody tr th {\n",
       "        vertical-align: top;\n",
       "    }\n",
       "\n",
       "    .dataframe thead th {\n",
       "        text-align: right;\n",
       "    }\n",
       "</style>\n",
       "<table border=\"1\" class=\"dataframe\">\n",
       "  <thead>\n",
       "    <tr style=\"text-align: right;\">\n",
       "      <th></th>\n",
       "      <th>TQA-B</th>\n",
       "      <th>TQA-E</th>\n",
       "      <th>CFRNN</th>\n",
       "      <th>CQRNN</th>\n",
       "      <th>LASplit</th>\n",
       "      <th>QRNN</th>\n",
       "      <th>DPRNN</th>\n",
       "    </tr>\n",
       "  </thead>\n",
       "  <tbody>\n",
       "    <tr>\n",
       "      <th>GEFCom-R</th>\n",
       "      <td>0.199435</td>\n",
       "      <td>0.220657</td>\n",
       "      <td>0.197942</td>\n",
       "      <td>0.209467</td>\n",
       "      <td>0.205981</td>\n",
       "      <td>0.194886</td>\n",
       "      <td>0.586948</td>\n",
       "    </tr>\n",
       "  </tbody>\n",
       "</table>\n",
       "</div>"
      ],
      "text/plain": [
       "             TQA-B     TQA-E     CFRNN     CQRNN   LASplit      QRNN     DPRNN\n",
       "GEFCom-R  0.199435  0.220657  0.197942  0.209467  0.205981  0.194886  0.586948"
      ]
     },
     "execution_count": 5,
     "metadata": {},
     "output_type": "execute_result"
    }
   ],
   "source": [
    "# The efficiency table\n",
    "inveff_table = {}\n",
    "for dataset in DATASETS:\n",
    "    effs = eval_utils.compare_efficiency(ws[dataset], covs[dataset])\n",
    "    inveff_table[dataset] = effs.mean(0)\n",
    "pd.DataFrame(inveff_table).T"
   ]
  },
  {
   "cell_type": "code",
   "execution_count": null,
   "id": "sharing-stroke",
   "metadata": {},
   "outputs": [],
   "source": []
  }
 ],
 "metadata": {
  "kernelspec": {
   "display_name": "Python 3",
   "language": "python",
   "name": "python3"
  },
  "language_info": {
   "codemirror_mode": {
    "name": "ipython",
    "version": 3
   },
   "file_extension": ".py",
   "mimetype": "text/x-python",
   "name": "python",
   "nbconvert_exporter": "python",
   "pygments_lexer": "ipython3",
   "version": "3.8.8"
  }
 },
 "nbformat": 4,
 "nbformat_minor": 5
}
