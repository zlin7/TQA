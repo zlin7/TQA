{
 "cells": [
  {
   "cell_type": "code",
   "execution_count": 1,
   "id": "vital-institution",
   "metadata": {},
   "outputs": [],
   "source": [
    "import sys; sys.path.append(\"..\")\n",
    "\n",
    "import tqdm\n",
    "import numpy as np\n",
    "import pandas as pd\n",
    "import torch\n",
    "\n",
    "import matplotlib.pyplot as plt\n",
    "%matplotlib inline"
   ]
  },
  {
   "cell_type": "code",
   "execution_count": 2,
   "id": "congressional-greece",
   "metadata": {},
   "outputs": [],
   "source": [
    "# plotting helper\n",
    "def plot_one(df, ax, ylim=None, s=20, add_label=False):\n",
    "    df = df.copy().reindex() \n",
    "    if ylim is None: ylim = (df.drop('x',axis=1).min().min(), df.drop('x',axis=1).max().max())\n",
    "    \n",
    "    inf_pis = (df['hi'] == np.inf) | (df['lo'] == - np.inf)\n",
    "    \n",
    "    df['hi'] = df['hi'].replace(np.inf, ylim[1] + 1)\n",
    "    df['lo'] = df['lo'].replace(-np.inf, ylim[0] - 1)\n",
    "    \n",
    "    miss_idx = df.index[((df['y'] < df['lo']) | (df['y'] > df['hi']))]\n",
    "\n",
    "    miss_y = df.loc[miss_idx, 'y']\n",
    "    miss_x = df.loc[miss_idx, 'x']\n",
    "    ax.scatter(miss_x, miss_y, label='missed y' if add_label else None, alpha=0.5, s=s, c='red', marker='x')\n",
    "\n",
    "    #scatter plot covered\n",
    "    cover_idx = df.index[((df['y'] >= df['lo']) & (df['y'] <= df['hi']))]\n",
    "    covered_y = df.loc[cover_idx,'y']\n",
    "    covered_x = df.loc[cover_idx, 'x']\n",
    "    if False:\n",
    "        label = f'covered ({len(cover_idx) / len(df) * 100:.1f}%)'\n",
    "    else:\n",
    "        label = f'covered y'\n",
    "    ax.scatter(covered_x, covered_y, label=label if add_label else None, alpha=0.5, s=s, c='gray', marker='.')\n",
    "    \n",
    "    ax.plot(df['x'], df['yhat'], color='black', label='$\\hat{y}$' if add_label else None)\n",
    "    ax.fill_between(df['x'], df['lo'], df['hi'], color='blue', alpha=.1, label='PI' if add_label else None)#, label=f'{prefix}[{lq}, {uq}]')\n",
    "    for idx in df.index[inf_pis]:\n",
    "        ax.fill_between([df.loc[idx,'x'] + _ for _ in [-0.5, 0.5]], [ylim[0] - 1]*2, [ylim[1] + 1]*2, color='red', alpha=.1, label='inf PI' if add_label else None)#, label=f'{prefix}[{lq}, {uq}]')\n",
    "        add_label = False\n",
    "    ax.set_ylim(*ylim)\n",
    "    ax.set_xlabel(f'Coverage: {len(cover_idx) / len(df) * 100:.1f}%')\n",
    "    ax.legend()"
   ]
  },
  {
   "cell_type": "markdown",
   "id": "stretch-therapist",
   "metadata": {},
   "source": [
    "# Step 1 (Data): GEFCom energy load data\n",
    "Since the health data requires license, we will be using GEFCom as a simply example for TQA."
   ]
  },
  {
   "cell_type": "code",
   "execution_count": 3,
   "id": "domestic-brief",
   "metadata": {},
   "outputs": [],
   "source": [
    "import data.preprocessing.gefc as gefc\n",
    "df = gefc.read_data().dropna().drop('date', axis=1)\n",
    "\n",
    "# normalize the data using the training set\n",
    "n_train, n_calibration, n_test = 1198, 200, 700\n",
    "horizon = 24\n",
    "df = (df - df.iloc[:(n_train*horizon)].mean()) / df.iloc[:(n_train * horizon)].std()\n",
    "\n",
    "# define the X and Y\n",
    "df['pred_LOAD'] = df['LOAD'].shift(1)\n",
    "Y = np.expand_dims(df['LOAD'].iloc[1:].values, 1)\n",
    "X = df.reindex(columns=['pred_LOAD'] + ['w%d'%(i+1) for i in range(25)]).iloc[1:].values\n",
    "\n",
    "# split the data into 24-hour sequcens\n",
    "Xs, Ys = [], []\n",
    "for y_st in range(horizon - 1, len(df) - 1, horizon):\n",
    "    Ys.append(Y[y_st:y_st+horizon])\n",
    "    Xs.append(X[y_st: y_st + horizon])\n",
    "    \n",
    "# permute the data\n",
    "perm = np.random.RandomState(seed=42).permutation(n_train + n_calibration + n_test)\n",
    "Xs = [Xs[i] for i in perm]\n",
    "Ys = [Ys[i] for i in perm]"
   ]
  },
  {
   "cell_type": "code",
   "execution_count": 4,
   "id": "significant-worthy",
   "metadata": {},
   "outputs": [
    {
     "data": {
      "text/plain": [
       "(2098, (24, 26), 2098, (24, 1))"
      ]
     },
     "execution_count": 4,
     "metadata": {},
     "output_type": "execute_result"
    }
   ],
   "source": [
    "# example the data we need. Xs and Ys are list of np.ndarrays\n",
    "len(Xs), Xs[0].shape, len(Ys), Ys[0].shape"
   ]
  },
  {
   "cell_type": "markdown",
   "id": "relative-penguin",
   "metadata": {},
   "source": [
    "Let's finally put the data prepared above into a `Dataset` object, like before, using `DatasetWrapperFull`."
   ]
  },
  {
   "cell_type": "code",
   "execution_count": 5,
   "id": "thermal-copper",
   "metadata": {},
   "outputs": [],
   "source": [
    "from data.online_dataset import DatasetWrapperFull\n",
    "train_dataset = DatasetWrapperFull(Xs[:n_train], Ys[:n_train], max_full_length=horizon)\n",
    "calibration_dataset = DatasetWrapperFull(Xs[n_train:n_train+n_calibration], Ys[n_train:n_train+n_calibration], max_full_length=horizon)\n",
    "test_dataset = DatasetWrapperFull(Xs[n_train+n_calibration:], Ys[n_train+n_calibration:], max_full_length=horizon)"
   ]
  },
  {
   "cell_type": "markdown",
   "id": "fiscal-familiar",
   "metadata": {},
   "source": [
    "# Step 2 (Base Model): LSTM\n",
    "We fit a LSTM on the time series data like usual. "
   ]
  },
  {
   "cell_type": "code",
   "execution_count": 6,
   "id": "another-reduction",
   "metadata": {},
   "outputs": [],
   "source": [
    "def _get_lengths_mask(sequences, lengths):\n",
    "    lengths_mask = torch.zeros_like(sequences, device=sequences.device)\n",
    "    for i, l in enumerate(lengths): lengths_mask[i, -l:, :] = 1\n",
    "    return lengths_mask\n",
    "\n",
    "class DemoRNN(torch.nn.Module):\n",
    "    def __init__(self, embedding_size, input_size):\n",
    "        super(DemoRNN, self).__init__()\n",
    "        self.forecaster_rnn = torch.nn.LSTM(input_size=input_size, hidden_size=embedding_size, batch_first=True)\n",
    "        self.forecaster_out = torch.nn.Linear(embedding_size, 1)\n",
    "\n",
    "    def forward(self, x,state=None):\n",
    "        return self.forecaster_out(self.forecaster_rnn(x.float())[0])\n",
    "\n",
    "    def fit(self, train_dataset, batch_size, epochs, lr, device='cuda:0'):\n",
    "        train_loader = torch.utils.data.DataLoader(train_dataset, batch_size=batch_size, shuffle=True)\n",
    "        optimizer = torch.optim.Adam(self.parameters(), lr=lr)\n",
    "        criterion = torch.nn.MSELoss(reduction='mean')\n",
    "        self.train()\n",
    "        for epoch in tqdm.tqdm(range(epochs), desc='Training..'):\n",
    "            for sequences, targets, lengths_input, lengths_target in train_loader:\n",
    "                optimizer.zero_grad()\n",
    "                out = self((sequences * _get_lengths_mask(sequences, lengths_input)).to(device))\n",
    "                targets = targets.to(device)\n",
    "                criterion(out * _get_lengths_mask(out, lengths_target), targets * _get_lengths_mask(targets, lengths_target)).backward()\n",
    "                optimizer.step()\n",
    "        return self"
   ]
  },
  {
   "cell_type": "code",
   "execution_count": 7,
   "id": "naughty-challenge",
   "metadata": {},
   "outputs": [
    {
     "name": "stderr",
     "output_type": "stream",
     "text": [
      "Training..: 100%|██████████████████████████████████████████████████████████████████| 1000/1000 [01:59<00:00,  8.35it/s]\n"
     ]
    }
   ],
   "source": [
    "# Change the following parameters if necessary for faster experiment\n",
    "device = 'cuda:0'\n",
    "epochs = 1000\n",
    "\n",
    "# fit the model\n",
    "model = DemoRNN(embedding_size=32, input_size = train_dataset[0][0].shape[1]).to(device)\n",
    "model = model.fit(train_dataset, batch_size=128, epochs=epochs, lr=1e-3, device=device)"
   ]
  },
  {
   "cell_type": "code",
   "execution_count": 8,
   "id": "ancient-quick",
   "metadata": {},
   "outputs": [
    {
     "data": {
      "text/plain": [
       "tensor([[[-0.5326],\n",
       "         [-0.7346],\n",
       "         [-0.8298],\n",
       "         [-0.9021],\n",
       "         [-0.8729],\n",
       "         [-0.7696],\n",
       "         [-0.4008],\n",
       "         [-0.1797],\n",
       "         [-0.0883],\n",
       "         [ 0.1273],\n",
       "         [ 0.3855],\n",
       "         [ 0.6759],\n",
       "         [ 0.9233],\n",
       "         [ 1.1338],\n",
       "         [ 1.3779],\n",
       "         [ 1.3872],\n",
       "         [ 1.5285],\n",
       "         [ 1.4695],\n",
       "         [ 1.2087],\n",
       "         [ 1.0810],\n",
       "         [ 1.1737],\n",
       "         [ 0.6920],\n",
       "         [ 0.2644],\n",
       "         [-0.1934]]], device='cuda:0', grad_fn=<AddBackward0>)"
      ]
     },
     "execution_count": 8,
     "metadata": {},
     "output_type": "execute_result"
    }
   ],
   "source": [
    "# we need the model to predict Y given X, like below:\n",
    "model(torch.unsqueeze(train_dataset[0][0],0).to(device))"
   ]
  },
  {
   "cell_type": "markdown",
   "id": "honey-relevance",
   "metadata": {},
   "source": [
    "# Step 3: TQA"
   ]
  },
  {
   "cell_type": "code",
   "execution_count": 9,
   "id": "parental-ground",
   "metadata": {},
   "outputs": [],
   "source": [
    "import models.tqa as tqa\n",
    "cal_model = tqa.TQA_B(model)\n",
    "cal_model.calibrate(calibration_dataset, device=device)"
   ]
  },
  {
   "cell_type": "code",
   "execution_count": 10,
   "id": "informative-washington",
   "metadata": {},
   "outputs": [],
   "source": [
    "# retrieve a batch of test data\n",
    "test_loader = torch.utils.data.DataLoader(test_dataset, batch_size=200, shuffle=False)\n",
    "x,y, _, _ = next(iter(test_loader))\n",
    "\n",
    "# To make prediction, we do the following:\n",
    "# Here, we passed y to *predict* for simplicity, because we will use information up to time t-1 when we make the prediction for time t\n",
    "yhat, pi = cal_model.predict(x.to(device), y.to(device),alpha=0.1)[:2]"
   ]
  },
  {
   "cell_type": "code",
   "execution_count": 15,
   "id": "innovative-fruit",
   "metadata": {},
   "outputs": [
    {
     "data": {
      "image/png": "[encoded data removed]",
      "text/plain": [
       "<Figure size 432x288 with 1 Axes>"
      ]
     },
     "metadata": {
      "needs_background": "light"
     },
     "output_type": "display_data"
    }
   ],
   "source": [
    "# let's look at one example\n",
    "idx = 7\n",
    "\n",
    "tdf = pd.DataFrame({k: v[:,0].cpu().numpy() for k,v in {\"y\": y[idx], \"yhat\": yhat[idx], 'lo': pi[idx,0], 'hi': pi[idx,1]}.items()})\n",
    "tdf = tdf.reset_index().rename(columns={\"index\":'x'})\n",
    "plot_one(tdf, ax=plt.subplots()[1], add_label=True)"
   ]
  },
  {
   "cell_type": "markdown",
   "id": "super-april",
   "metadata": {},
   "source": [
    "### Remark:\n",
    "This notebook only serves as a tutorial on how to use TQA for any existing pipeline.\n",
    "You could replace Step 1 and 2 with any data and model you have.\n",
    "To replicate other experiments/results, please still refer to `main.ipynb`."
   ]
  }
 ],
 "metadata": {
  "kernelspec": {
   "display_name": "Python 3",
   "language": "python",
   "name": "python3"
  },
  "language_info": {
   "codemirror_mode": {
    "name": "ipython",
    "version": 3
   },
   "file_extension": ".py",
   "mimetype": "text/x-python",
   "name": "python",
   "nbconvert_exporter": "python",
   "pygments_lexer": "ipython3",
   "version": "3.8.8"
  }
 },
 "nbformat": 4,
 "nbformat_minor": 5
}
