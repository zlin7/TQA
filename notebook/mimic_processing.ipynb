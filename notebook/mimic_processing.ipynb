{
 "cells": [
  {
   "cell_type": "code",
   "execution_count": 2,
   "id": "52e63a2a",
   "metadata": {},
   "outputs": [
    {
     "data": {
      "text/html": [
       "<div>\n",
       "<style scoped>\n",
       "    .dataframe tbody tr th:only-of-type {\n",
       "        vertical-align: middle;\n",
       "    }\n",
       "\n",
       "    .dataframe tbody tr th {\n",
       "        vertical-align: top;\n",
       "    }\n",
       "\n",
       "    .dataframe thead th {\n",
       "        text-align: right;\n",
       "    }\n",
       "</style>\n",
       "<table border=\"1\" class=\"dataframe\">\n",
       "  <thead>\n",
       "    <tr style=\"text-align: right;\">\n",
       "      <th></th>\n",
       "      <th>gender</th>\n",
       "      <th>dob</th>\n",
       "      <th>dod</th>\n",
       "      <th>dod_hosp</th>\n",
       "      <th>dod_ssn</th>\n",
       "      <th>first_admit</th>\n",
       "    </tr>\n",
       "    <tr>\n",
       "      <th>subject_id</th>\n",
       "      <th></th>\n",
       "      <th></th>\n",
       "      <th></th>\n",
       "      <th></th>\n",
       "      <th></th>\n",
       "      <th></th>\n",
       "    </tr>\n",
       "  </thead>\n",
       "  <tbody>\n",
       "    <tr>\n",
       "      <th>6749</th>\n",
       "      <td>F</td>\n",
       "      <td>2033-02-26 00:00:00</td>\n",
       "      <td>2112-08-26 00:00:00</td>\n",
       "      <td>2112-08-26 00:00:00</td>\n",
       "      <td>2112-08-26 00:00:00</td>\n",
       "      <td>2112-02-04 19:09:00.000000</td>\n",
       "    </tr>\n",
       "    <tr>\n",
       "      <th>42733</th>\n",
       "      <td>M</td>\n",
       "      <td>2075-11-11 00:00:00</td>\n",
       "      <td>NaN</td>\n",
       "      <td>NaN</td>\n",
       "      <td>NaN</td>\n",
       "      <td>2143-07-19 16:58:00.000000</td>\n",
       "    </tr>\n",
       "    <tr>\n",
       "      <th>88095</th>\n",
       "      <td>F</td>\n",
       "      <td>2098-11-18 00:00:00</td>\n",
       "      <td>NaN</td>\n",
       "      <td>NaN</td>\n",
       "      <td>NaN</td>\n",
       "      <td>2141-05-22 01:11:00.000000</td>\n",
       "    </tr>\n",
       "    <tr>\n",
       "      <th>46335</th>\n",
       "      <td>M</td>\n",
       "      <td>2030-02-22 00:00:00</td>\n",
       "      <td>2102-01-17 00:00:00</td>\n",
       "      <td>NaN</td>\n",
       "      <td>2102-01-17 00:00:00</td>\n",
       "      <td>2101-07-17 15:08:00.000000</td>\n",
       "    </tr>\n",
       "    <tr>\n",
       "      <th>9798</th>\n",
       "      <td>M</td>\n",
       "      <td>2038-04-22 00:00:00</td>\n",
       "      <td>NaN</td>\n",
       "      <td>NaN</td>\n",
       "      <td>NaN</td>\n",
       "      <td>2110-03-16 04:18:00.000000</td>\n",
       "    </tr>\n",
       "  </tbody>\n",
       "</table>\n",
       "</div>"
      ],
      "text/plain": [
       "           gender                  dob                  dod  \\\n",
       "subject_id                                                    \n",
       "6749            F  2033-02-26 00:00:00  2112-08-26 00:00:00   \n",
       "42733           M  2075-11-11 00:00:00                  NaN   \n",
       "88095           F  2098-11-18 00:00:00                  NaN   \n",
       "46335           M  2030-02-22 00:00:00  2102-01-17 00:00:00   \n",
       "9798            M  2038-04-22 00:00:00                  NaN   \n",
       "\n",
       "                       dod_hosp              dod_ssn  \\\n",
       "subject_id                                             \n",
       "6749        2112-08-26 00:00:00  2112-08-26 00:00:00   \n",
       "42733                       NaN                  NaN   \n",
       "88095                       NaN                  NaN   \n",
       "46335                       NaN  2102-01-17 00:00:00   \n",
       "9798                        NaN                  NaN   \n",
       "\n",
       "                           first_admit  \n",
       "subject_id                              \n",
       "6749        2112-02-04 19:09:00.000000  \n",
       "42733       2143-07-19 16:58:00.000000  \n",
       "88095       2141-05-22 01:11:00.000000  \n",
       "46335       2101-07-17 15:08:00.000000  \n",
       "9798        2110-03-16 04:18:00.000000  "
      ]
     },
     "execution_count": 2,
     "metadata": {},
     "output_type": "execute_result"
    }
   ],
   "source": [
    "\n",
    "import sys\n",
    "sys.path.append(\"..\")\n",
    "\n",
    "\n",
    "import pandas as pd, numpy as np\n",
    "from _settings import WORKSPACE\n",
    "import os\n",
    "events = pd.read_csv(os.path.join(WORKSPACE, 'data', 'mimic', 'chartevents.csv'))\n",
    "pats = pd.read_csv(os.path.join(WORKSPACE, 'data', 'mimic', 'patients.csv')).set_index('subject_id')\n",
    "#pats\n",
    "#events\n",
    "pats.head()"
   ]
  },
  {
   "cell_type": "code",
   "execution_count": 3,
   "id": "209b9897",
   "metadata": {},
   "outputs": [
    {
     "data": {
      "text/plain": [
       "Name                      DBSOURCE  \n",
       "Bilirubin                 carevue         1538\n",
       "                          metavision    225690\n",
       "Creatinine                carevue         1525\n",
       "                          metavision    220615\n",
       "Diastolic blood pressure  carevue         8368\n",
       "                          metavision    220180\n",
       "Glucose                   carevue          807\n",
       "                          metavision    225664\n",
       "Heart Rate                carevue          211\n",
       "                          metavision    220045\n",
       "Hematocrit                carevue          813\n",
       "                          metavision    220545\n",
       "Hemoglobin                carevue          814\n",
       "                          metavision    220228\n",
       "Mean blood pressure       carevue           52\n",
       "                          metavision    220181\n",
       "Platelet                  carevue          828\n",
       "                          metavision    227457\n",
       "Potassium                 carevue         1535\n",
       "                          metavision    227442\n",
       "Respiratory Rate          carevue          618\n",
       "                          metavision    220210\n",
       "SpO2                      metavision    220277\n",
       "                          carevue          646\n",
       "Systolic blood pressure   carevue           51\n",
       "                          metavision    220179\n",
       "Temperature               metavision    223761\n",
       "                          carevue          678\n",
       "WBC                       carevue         1542\n",
       "                          metavision    220546\n",
       "Weight                    carevue          763\n",
       "                          metavision    224639\n",
       "Name: itemid, dtype: int64"
      ]
     },
     "execution_count": 3,
     "metadata": {},
     "output_type": "execute_result"
    }
   ],
   "source": [
    "mapping = pd.read_csv(os.path.join(WORKSPACE, 'data', 'mimic', 'mappings.csv'))\n",
    "mapping = mapping[mapping['Name']!='FiO2'] #FiO2 is not necessary\n",
    "summ_cols = ['Bilirubin', 'Creatinine', 'Hematocrit', 'Hemoglobin', 'Platelet', 'Potassium', 'WBC'] \n",
    "mean_cols = ['Diastolic blood pressure', 'Glucose', 'Mean blood pressure', 'SpO2', 'Systolic blood pressure', 'Temperature', 'Weight']\n",
    "mean_cols += ['Heart Rate', 'Respiratory Rate']\n",
    "assert len(pd.Index(mapping['Name'].unique()).difference(pd.Index(summ_cols)).difference(pd.Index(mean_cols))) == 0\n",
    "\n",
    "rev_mapping = mapping.set_index('itemid')\n",
    "mapping = mapping.set_index(['Name', 'DBSOURCE']).astype(int)['itemid']\n",
    "mapping"
   ]
  },
  {
   "cell_type": "markdown",
   "id": "6b357b85",
   "metadata": {},
   "source": [
    "## Sanity Check - the columns seem to be the same thing from the two sources"
   ]
  },
  {
   "cell_type": "code",
   "execution_count": 4,
   "id": "dbb0c9f1",
   "metadata": {
    "scrolled": true
   },
   "outputs": [
    {
     "data": {
      "image/png": "[encoded data removed]",
      "text/plain": [
       "<Figure size 432x288 with 1 Axes>"
      ]
     },
     "metadata": {
      "needs_background": "light"
     },
     "output_type": "display_data"
    },
    {
     "data": {
      "image/png": "[encoded data removed]",
      "text/plain": [
       "<Figure size 432x288 with 1 Axes>"
      ]
     },
     "metadata": {
      "needs_background": "light"
     },
     "output_type": "display_data"
    },
    {
     "data": {
      "image/png": "[encoded data removed]",
      "text/plain": [
       "<Figure size 432x288 with 1 Axes>"
      ]
     },
     "metadata": {
      "needs_background": "light"
     },
     "output_type": "display_data"
    },
    {
     "data": {
      "image/png": "[encoded data removed]",
      "text/plain": [
       "<Figure size 432x288 with 1 Axes>"
      ]
     },
     "metadata": {
      "needs_background": "light"
     },
     "output_type": "display_data"
    },
    {
     "data": {
      "image/png": "[encoded data removed]",
      "text/plain": [
       "<Figure size 432x288 with 1 Axes>"
      ]
     },
     "metadata": {
      "needs_background": "light"
     },
     "output_type": "display_data"
    },
    {
     "data": {
      "image/png": "[encoded data removed]",
      "text/plain": [
       "<Figure size 432x288 with 1 Axes>"
      ]
     },
     "metadata": {
      "needs_background": "light"
     },
     "output_type": "display_data"
    },
    {
     "data": {
      "image/png": "[encoded data removed]",
      "text/plain": [
       "<Figure size 432x288 with 1 Axes>"
      ]
     },
     "metadata": {
      "needs_background": "light"
     },
     "output_type": "display_data"
    },
    {
     "data": {
      "image/png": "[encoded data removed]",
      "text/plain": [
       "<Figure size 432x288 with 1 Axes>"
      ]
     },
     "metadata": {
      "needs_background": "light"
     },
     "output_type": "display_data"
    },
    {
     "data": {
      "image/png": "[encoded data removed]",
      "text/plain": [
       "<Figure size 432x288 with 1 Axes>"
      ]
     },
     "metadata": {
      "needs_background": "light"
     },
     "output_type": "display_data"
    },
    {
     "data": {
      "image/png": "[encoded data removed]",
      "text/plain": [
       "<Figure size 432x288 with 1 Axes>"
      ]
     },
     "metadata": {
      "needs_background": "light"
     },
     "output_type": "display_data"
    },
    {
     "data": {
      "image/png": "[encoded data removed]",
      "text/plain": [
       "<Figure size 432x288 with 1 Axes>"
      ]
     },
     "metadata": {
      "needs_background": "light"
     },
     "output_type": "display_data"
    },
    {
     "data": {
      "image/png": "[encoded data removed]",
      "text/plain": [
       "<Figure size 432x288 with 1 Axes>"
      ]
     },
     "metadata": {
      "needs_background": "light"
     },
     "output_type": "display_data"
    },
    {
     "data": {
      "image/png": "[encoded data removed]",
      "text/plain": [
       "<Figure size 432x288 with 1 Axes>"
      ]
     },
     "metadata": {
      "needs_background": "light"
     },
     "output_type": "display_data"
    },
    {
     "data": {
      "image/png": "[encoded data removed]",
      "text/plain": [
       "<Figure size 432x288 with 1 Axes>"
      ]
     },
     "metadata": {
      "needs_background": "light"
     },
     "output_type": "display_data"
    },
    {
     "data": {
      "text/plain": [
       "Bilirubin     1.130711\n",
       "Creatinine    0.992161\n",
       "Hematocrit    1.004847\n",
       "Hemoglobin    1.016213\n",
       "Platelet      0.976298\n",
       "Potassium     1.167113\n",
       "WBC           1.048965\n",
       "dtype: float64"
      ]
     },
     "execution_count": 4,
     "metadata": {},
     "output_type": "execute_result"
    }
   ],
   "source": [
    "import matplotlib.pyplot as plt\n",
    "%matplotlib inline\n",
    "\n",
    "res = {}\n",
    "for measure in summ_cols + summ_cols:\n",
    "    cid = mapping.loc[measure, 'carevue']\n",
    "    mid = mapping.loc[measure, 'metavision']\n",
    "    cdf = events[events['itemid'] == cid]\n",
    "    mdf = events[events['itemid'] == mid]\n",
    "    cser = cdf.groupby('subject_id')['valuenum'].mean()\n",
    "    mser = mdf.groupby('subject_id')['valuenum'].mean()\n",
    "    res[measure] = cser.mean() / mser.mean()\n",
    "    plt.hist(cser.values, label='carevue', bins=50, density =True, alpha=0.5)\n",
    "    plt.hist(mser.values, label='metavision', bins=50, density = True, alpha=0.5)\n",
    "    plt.legend()\n",
    "    plt.title(measure)\n",
    "    plt.show()\n",
    "pd.Series(res)"
   ]
  },
  {
   "cell_type": "code",
   "execution_count": 5,
   "id": "16446cdd",
   "metadata": {},
   "outputs": [],
   "source": [
    "def to_date(x):\n",
    "    return x[:10]\n",
    "    return pd.to_datetime(x.split(\" \")[0])\n",
    "\n",
    "\n",
    "\n",
    "events = events.merge(rev_mapping, right_index=True, left_on='itemid')\n",
    "events['date'] = events['charttime'].map(to_date)\n",
    "events = events.reindex(columns=['subject_id', 'date', 'Name', 'valuenum'])\n",
    "tdf1_ = events[events['Name'].isin(set(summ_cols))]\n",
    "tdf1_hi = pd.pivot_table(tdf1_, 'valuenum', ['subject_id', 'date'], 'Name', aggfunc=np.max).rename(columns=lambda x: f\"{x} high\")\n",
    "tdf1_lo = pd.pivot_table(tdf1_, 'valuenum', ['subject_id', 'date'], 'Name', aggfunc=np.min).rename(columns=lambda x: f\"{x} low\")\n",
    "tdf2 = pd.pivot_table(events[events['Name'].isin(set(mean_cols))], 'valuenum', ['subject_id', 'date'], 'Name', aggfunc=np.mean)\n",
    "fdf = pd.concat([tdf2, tdf1_lo, tdf1_hi], axis=1).reset_index()\n",
    "fdf.name = None"
   ]
  },
  {
   "cell_type": "code",
   "execution_count": 6,
   "id": "bf6e765d",
   "metadata": {},
   "outputs": [],
   "source": [
    "\n",
    "\n",
    "pats['dob'] = pats['dob'].map(to_date)\n",
    "fdf = fdf.merge(pats.reindex(columns=['dob', 'first_admit']), left_on='subject_id', right_index=True)"
   ]
  },
  {
   "cell_type": "code",
   "execution_count": 7,
   "id": "2b268770",
   "metadata": {},
   "outputs": [
    {
     "data": {
      "text/html": [
       "<div>\n",
       "<style scoped>\n",
       "    .dataframe tbody tr th:only-of-type {\n",
       "        vertical-align: middle;\n",
       "    }\n",
       "\n",
       "    .dataframe tbody tr th {\n",
       "        vertical-align: top;\n",
       "    }\n",
       "\n",
       "    .dataframe thead th {\n",
       "        text-align: right;\n",
       "    }\n",
       "</style>\n",
       "<table border=\"1\" class=\"dataframe\">\n",
       "  <thead>\n",
       "    <tr style=\"text-align: right;\">\n",
       "      <th></th>\n",
       "      <th>subject_id</th>\n",
       "      <th>date</th>\n",
       "      <th>Diastolic blood pressure</th>\n",
       "      <th>Glucose</th>\n",
       "      <th>Heart Rate</th>\n",
       "      <th>Mean blood pressure</th>\n",
       "      <th>Respiratory Rate</th>\n",
       "      <th>SpO2</th>\n",
       "      <th>Systolic blood pressure</th>\n",
       "      <th>Temperature</th>\n",
       "      <th>...</th>\n",
       "      <th>WBC low</th>\n",
       "      <th>Bilirubin high</th>\n",
       "      <th>Creatinine high</th>\n",
       "      <th>Hematocrit high</th>\n",
       "      <th>Hemoglobin high</th>\n",
       "      <th>Platelet high</th>\n",
       "      <th>Potassium high</th>\n",
       "      <th>WBC high</th>\n",
       "      <th>dob</th>\n",
       "      <th>first_admit</th>\n",
       "    </tr>\n",
       "  </thead>\n",
       "  <tbody>\n",
       "    <tr>\n",
       "      <th>0</th>\n",
       "      <td>9</td>\n",
       "      <td>2149-11-09</td>\n",
       "      <td>82.481481</td>\n",
       "      <td>NaN</td>\n",
       "      <td>88.703704</td>\n",
       "      <td>101.518519</td>\n",
       "      <td>14.555556</td>\n",
       "      <td>97.629630</td>\n",
       "      <td>161.518519</td>\n",
       "      <td>96.425001</td>\n",
       "      <td>...</td>\n",
       "      <td>NaN</td>\n",
       "      <td>NaN</td>\n",
       "      <td>NaN</td>\n",
       "      <td>42.000000</td>\n",
       "      <td>NaN</td>\n",
       "      <td>NaN</td>\n",
       "      <td>2.9</td>\n",
       "      <td>NaN</td>\n",
       "      <td>2108-01-26</td>\n",
       "      <td>2149-11-09 13:06:00.000000</td>\n",
       "    </tr>\n",
       "    <tr>\n",
       "      <th>1</th>\n",
       "      <td>9</td>\n",
       "      <td>2149-11-10</td>\n",
       "      <td>78.187500</td>\n",
       "      <td>124.5</td>\n",
       "      <td>89.312500</td>\n",
       "      <td>98.593750</td>\n",
       "      <td>14.125000</td>\n",
       "      <td>98.764706</td>\n",
       "      <td>154.968750</td>\n",
       "      <td>98.950000</td>\n",
       "      <td>...</td>\n",
       "      <td>13.7</td>\n",
       "      <td>0.4</td>\n",
       "      <td>1.4</td>\n",
       "      <td>37.400002</td>\n",
       "      <td>13.0</td>\n",
       "      <td>261.0</td>\n",
       "      <td>3.0</td>\n",
       "      <td>14.4</td>\n",
       "      <td>2108-01-26</td>\n",
       "      <td>2149-11-09 13:06:00.000000</td>\n",
       "    </tr>\n",
       "    <tr>\n",
       "      <th>2</th>\n",
       "      <td>9</td>\n",
       "      <td>2149-11-11</td>\n",
       "      <td>72.470588</td>\n",
       "      <td>159.5</td>\n",
       "      <td>85.151515</td>\n",
       "      <td>93.264706</td>\n",
       "      <td>14.787879</td>\n",
       "      <td>98.088235</td>\n",
       "      <td>145.500000</td>\n",
       "      <td>97.133334</td>\n",
       "      <td>...</td>\n",
       "      <td>12.1</td>\n",
       "      <td>NaN</td>\n",
       "      <td>2.0</td>\n",
       "      <td>38.200001</td>\n",
       "      <td>12.9</td>\n",
       "      <td>221.0</td>\n",
       "      <td>3.5</td>\n",
       "      <td>12.1</td>\n",
       "      <td>2108-01-26</td>\n",
       "      <td>2149-11-09 13:06:00.000000</td>\n",
       "    </tr>\n",
       "    <tr>\n",
       "      <th>3</th>\n",
       "      <td>9</td>\n",
       "      <td>2149-11-12</td>\n",
       "      <td>76.282609</td>\n",
       "      <td>141.0</td>\n",
       "      <td>84.456522</td>\n",
       "      <td>97.760870</td>\n",
       "      <td>18.369565</td>\n",
       "      <td>95.510204</td>\n",
       "      <td>150.173913</td>\n",
       "      <td>98.016666</td>\n",
       "      <td>...</td>\n",
       "      <td>18.6</td>\n",
       "      <td>0.4</td>\n",
       "      <td>2.0</td>\n",
       "      <td>39.000000</td>\n",
       "      <td>13.1</td>\n",
       "      <td>261.0</td>\n",
       "      <td>3.6</td>\n",
       "      <td>18.6</td>\n",
       "      <td>2108-01-26</td>\n",
       "      <td>2149-11-09 13:06:00.000000</td>\n",
       "    </tr>\n",
       "    <tr>\n",
       "      <th>4</th>\n",
       "      <td>9</td>\n",
       "      <td>2149-11-13</td>\n",
       "      <td>75.846154</td>\n",
       "      <td>176.0</td>\n",
       "      <td>84.974359</td>\n",
       "      <td>93.210526</td>\n",
       "      <td>18.487179</td>\n",
       "      <td>96.536585</td>\n",
       "      <td>144.102564</td>\n",
       "      <td>98.033334</td>\n",
       "      <td>...</td>\n",
       "      <td>12.2</td>\n",
       "      <td>NaN</td>\n",
       "      <td>1.7</td>\n",
       "      <td>36.799999</td>\n",
       "      <td>12.8</td>\n",
       "      <td>308.0</td>\n",
       "      <td>3.8</td>\n",
       "      <td>18.4</td>\n",
       "      <td>2108-01-26</td>\n",
       "      <td>2149-11-09 13:06:00.000000</td>\n",
       "    </tr>\n",
       "    <tr>\n",
       "      <th>...</th>\n",
       "      <td>...</td>\n",
       "      <td>...</td>\n",
       "      <td>...</td>\n",
       "      <td>...</td>\n",
       "      <td>...</td>\n",
       "      <td>...</td>\n",
       "      <td>...</td>\n",
       "      <td>...</td>\n",
       "      <td>...</td>\n",
       "      <td>...</td>\n",
       "      <td>...</td>\n",
       "      <td>...</td>\n",
       "      <td>...</td>\n",
       "      <td>...</td>\n",
       "      <td>...</td>\n",
       "      <td>...</td>\n",
       "      <td>...</td>\n",
       "      <td>...</td>\n",
       "      <td>...</td>\n",
       "      <td>...</td>\n",
       "      <td>...</td>\n",
       "    </tr>\n",
       "    <tr>\n",
       "      <th>75241</th>\n",
       "      <td>79838</td>\n",
       "      <td>2100-09-05</td>\n",
       "      <td>NaN</td>\n",
       "      <td>NaN</td>\n",
       "      <td>NaN</td>\n",
       "      <td>NaN</td>\n",
       "      <td>NaN</td>\n",
       "      <td>NaN</td>\n",
       "      <td>NaN</td>\n",
       "      <td>NaN</td>\n",
       "      <td>...</td>\n",
       "      <td>11.8</td>\n",
       "      <td>NaN</td>\n",
       "      <td>0.6</td>\n",
       "      <td>24.600000</td>\n",
       "      <td>8.7</td>\n",
       "      <td>236.0</td>\n",
       "      <td>3.9</td>\n",
       "      <td>11.8</td>\n",
       "      <td>2039-06-12</td>\n",
       "      <td>2100-08-19 13:33:00.000000</td>\n",
       "    </tr>\n",
       "    <tr>\n",
       "      <th>75242</th>\n",
       "      <td>79838</td>\n",
       "      <td>2100-09-06</td>\n",
       "      <td>NaN</td>\n",
       "      <td>NaN</td>\n",
       "      <td>NaN</td>\n",
       "      <td>NaN</td>\n",
       "      <td>NaN</td>\n",
       "      <td>NaN</td>\n",
       "      <td>NaN</td>\n",
       "      <td>NaN</td>\n",
       "      <td>...</td>\n",
       "      <td>8.5</td>\n",
       "      <td>NaN</td>\n",
       "      <td>0.7</td>\n",
       "      <td>26.300000</td>\n",
       "      <td>9.1</td>\n",
       "      <td>306.0</td>\n",
       "      <td>3.6</td>\n",
       "      <td>8.5</td>\n",
       "      <td>2039-06-12</td>\n",
       "      <td>2100-08-19 13:33:00.000000</td>\n",
       "    </tr>\n",
       "    <tr>\n",
       "      <th>75245</th>\n",
       "      <td>94998</td>\n",
       "      <td>2128-07-02</td>\n",
       "      <td>NaN</td>\n",
       "      <td>NaN</td>\n",
       "      <td>NaN</td>\n",
       "      <td>NaN</td>\n",
       "      <td>NaN</td>\n",
       "      <td>NaN</td>\n",
       "      <td>NaN</td>\n",
       "      <td>NaN</td>\n",
       "      <td>...</td>\n",
       "      <td>5.8</td>\n",
       "      <td>NaN</td>\n",
       "      <td>0.8</td>\n",
       "      <td>30.900000</td>\n",
       "      <td>10.7</td>\n",
       "      <td>243.0</td>\n",
       "      <td>3.8</td>\n",
       "      <td>8.7</td>\n",
       "      <td>2063-04-14</td>\n",
       "      <td>2128-06-30 13:21:00.000000</td>\n",
       "    </tr>\n",
       "    <tr>\n",
       "      <th>75246</th>\n",
       "      <td>94998</td>\n",
       "      <td>2128-07-03</td>\n",
       "      <td>NaN</td>\n",
       "      <td>NaN</td>\n",
       "      <td>NaN</td>\n",
       "      <td>NaN</td>\n",
       "      <td>NaN</td>\n",
       "      <td>NaN</td>\n",
       "      <td>NaN</td>\n",
       "      <td>NaN</td>\n",
       "      <td>...</td>\n",
       "      <td>7.3</td>\n",
       "      <td>NaN</td>\n",
       "      <td>0.7</td>\n",
       "      <td>27.200000</td>\n",
       "      <td>9.6</td>\n",
       "      <td>239.0</td>\n",
       "      <td>3.5</td>\n",
       "      <td>7.3</td>\n",
       "      <td>2063-04-14</td>\n",
       "      <td>2128-06-30 13:21:00.000000</td>\n",
       "    </tr>\n",
       "    <tr>\n",
       "      <th>75247</th>\n",
       "      <td>94998</td>\n",
       "      <td>2128-07-01</td>\n",
       "      <td>NaN</td>\n",
       "      <td>NaN</td>\n",
       "      <td>NaN</td>\n",
       "      <td>NaN</td>\n",
       "      <td>NaN</td>\n",
       "      <td>NaN</td>\n",
       "      <td>NaN</td>\n",
       "      <td>NaN</td>\n",
       "      <td>...</td>\n",
       "      <td>6.6</td>\n",
       "      <td>NaN</td>\n",
       "      <td>0.8</td>\n",
       "      <td>32.800000</td>\n",
       "      <td>11.1</td>\n",
       "      <td>255.0</td>\n",
       "      <td>3.9</td>\n",
       "      <td>6.6</td>\n",
       "      <td>2063-04-14</td>\n",
       "      <td>2128-06-30 13:21:00.000000</td>\n",
       "    </tr>\n",
       "  </tbody>\n",
       "</table>\n",
       "<p>75250 rows × 27 columns</p>\n",
       "</div>"
      ],
      "text/plain": [
       "       subject_id        date  Diastolic blood pressure  Glucose  Heart Rate  \\\n",
       "0               9  2149-11-09                 82.481481      NaN   88.703704   \n",
       "1               9  2149-11-10                 78.187500    124.5   89.312500   \n",
       "2               9  2149-11-11                 72.470588    159.5   85.151515   \n",
       "3               9  2149-11-12                 76.282609    141.0   84.456522   \n",
       "4               9  2149-11-13                 75.846154    176.0   84.974359   \n",
       "...           ...         ...                       ...      ...         ...   \n",
       "75241       79838  2100-09-05                       NaN      NaN         NaN   \n",
       "75242       79838  2100-09-06                       NaN      NaN         NaN   \n",
       "75245       94998  2128-07-02                       NaN      NaN         NaN   \n",
       "75246       94998  2128-07-03                       NaN      NaN         NaN   \n",
       "75247       94998  2128-07-01                       NaN      NaN         NaN   \n",
       "\n",
       "       Mean blood pressure  Respiratory Rate       SpO2  \\\n",
       "0               101.518519         14.555556  97.629630   \n",
       "1                98.593750         14.125000  98.764706   \n",
       "2                93.264706         14.787879  98.088235   \n",
       "3                97.760870         18.369565  95.510204   \n",
       "4                93.210526         18.487179  96.536585   \n",
       "...                    ...               ...        ...   \n",
       "75241                  NaN               NaN        NaN   \n",
       "75242                  NaN               NaN        NaN   \n",
       "75245                  NaN               NaN        NaN   \n",
       "75246                  NaN               NaN        NaN   \n",
       "75247                  NaN               NaN        NaN   \n",
       "\n",
       "       Systolic blood pressure  Temperature  ...  WBC low  Bilirubin high  \\\n",
       "0                   161.518519    96.425001  ...      NaN             NaN   \n",
       "1                   154.968750    98.950000  ...     13.7             0.4   \n",
       "2                   145.500000    97.133334  ...     12.1             NaN   \n",
       "3                   150.173913    98.016666  ...     18.6             0.4   \n",
       "4                   144.102564    98.033334  ...     12.2             NaN   \n",
       "...                        ...          ...  ...      ...             ...   \n",
       "75241                      NaN          NaN  ...     11.8             NaN   \n",
       "75242                      NaN          NaN  ...      8.5             NaN   \n",
       "75245                      NaN          NaN  ...      5.8             NaN   \n",
       "75246                      NaN          NaN  ...      7.3             NaN   \n",
       "75247                      NaN          NaN  ...      6.6             NaN   \n",
       "\n",
       "       Creatinine high  Hematocrit high  Hemoglobin high  Platelet high  \\\n",
       "0                  NaN        42.000000              NaN            NaN   \n",
       "1                  1.4        37.400002             13.0          261.0   \n",
       "2                  2.0        38.200001             12.9          221.0   \n",
       "3                  2.0        39.000000             13.1          261.0   \n",
       "4                  1.7        36.799999             12.8          308.0   \n",
       "...                ...              ...              ...            ...   \n",
       "75241              0.6        24.600000              8.7          236.0   \n",
       "75242              0.7        26.300000              9.1          306.0   \n",
       "75245              0.8        30.900000             10.7          243.0   \n",
       "75246              0.7        27.200000              9.6          239.0   \n",
       "75247              0.8        32.800000             11.1          255.0   \n",
       "\n",
       "       Potassium high  WBC high         dob                 first_admit  \n",
       "0                 2.9       NaN  2108-01-26  2149-11-09 13:06:00.000000  \n",
       "1                 3.0      14.4  2108-01-26  2149-11-09 13:06:00.000000  \n",
       "2                 3.5      12.1  2108-01-26  2149-11-09 13:06:00.000000  \n",
       "3                 3.6      18.6  2108-01-26  2149-11-09 13:06:00.000000  \n",
       "4                 3.8      18.4  2108-01-26  2149-11-09 13:06:00.000000  \n",
       "...               ...       ...         ...                         ...  \n",
       "75241             3.9      11.8  2039-06-12  2100-08-19 13:33:00.000000  \n",
       "75242             3.6       8.5  2039-06-12  2100-08-19 13:33:00.000000  \n",
       "75245             3.8       8.7  2063-04-14  2128-06-30 13:21:00.000000  \n",
       "75246             3.5       7.3  2063-04-14  2128-06-30 13:21:00.000000  \n",
       "75247             3.9       6.6  2063-04-14  2128-06-30 13:21:00.000000  \n",
       "\n",
       "[75250 rows x 27 columns]"
      ]
     },
     "execution_count": 7,
     "metadata": {},
     "output_type": "execute_result"
    }
   ],
   "source": [
    "fdf"
   ]
  },
  {
   "cell_type": "code",
   "execution_count": 16,
   "id": "8f3df9fb",
   "metadata": {},
   "outputs": [
    {
     "name": "stderr",
     "output_type": "stream",
     "text": [
      "/tmp/ipykernel_6679/2826681994.py:19: SettingWithCopyWarning: \n",
      "A value is trying to be set on a copy of a slice from a DataFrame.\n",
      "Try using .loc[row_indexer,col_indexer] = value instead\n",
      "\n",
      "See the caveats in the documentation: https://pandas.pydata.org/pandas-docs/stable/user_guide/indexing.html#returning-a-view-versus-a-copy\n",
      "  fdf['age'] = fdf.apply(lambda r: _strs_to_age(r['date'], r['dob'], r['first_admit']), axis=1)\n"
     ]
    },
    {
     "data": {
      "text/plain": [
       "16      9\n",
       "17     46\n",
       "18     84\n",
       "19    103\n",
       "20    239\n",
       "     ... \n",
       "95     31\n",
       "96     44\n",
       "97     29\n",
       "98     45\n",
       "99      4\n",
       "Name: age, Length: 84, dtype: int64"
      ]
     },
     "execution_count": 16,
     "metadata": {},
     "output_type": "execute_result"
    }
   ],
   "source": [
    "\n",
    "\n",
    "def _strs_to_age(date, dob, first_admit, remove_unknown=False):\n",
    "    first_admit = to_date(first_admit)\n",
    "    \n",
    "    birthyear = int(dob[:4])\n",
    "    if birthyear <= 1900: #first admit use -1 as a flag, as we need to adjust age in the next step\n",
    "        if remove_unknown: return 300\n",
    "        #https://mimic.mit.edu/docs/iii/about/time/ - <1900 means age >= 89 on the first admit\n",
    "        age = int(date[:4]) - int(first_admit[:4]) + 89\n",
    "        if int(date[5:].replace('-', '')) < int(first_admit[5:].replace('-', '')):\n",
    "            age -= 1\n",
    "        #age *= -1\n",
    "    else:\n",
    "        age = int(date[:4]) - birthyear\n",
    "        if int(date[5:].replace('-', '')) < int(dob[5:].replace('-', '')):\n",
    "            age -= 1\n",
    "    return age\n",
    "\n",
    "\n",
    "fdf['age'] = fdf.apply(lambda r: _strs_to_age(r['date'], r['dob'], r['first_admit']), axis=1)\n",
    "fdf = fdf[fdf['age'] < 200]\n",
    "fdf.age.value_counts().sort_index()"
   ]
  },
  {
   "cell_type": "code",
   "execution_count": 19,
   "id": "f76f0a73",
   "metadata": {},
   "outputs": [],
   "source": [
    "fdf.to_csv(os.path.join(WORKSPACE, 'data', 'mimic', 'processed.csv'), index=False)"
   ]
  }
 ],
 "metadata": {
  "kernelspec": {
   "display_name": "Python 3 (ipykernel)",
   "language": "python",
   "name": "python3"
  },
  "language_info": {
   "codemirror_mode": {
    "name": "ipython",
    "version": 3
   },
   "file_extension": ".py",
   "mimetype": "text/x-python",
   "name": "python",
   "nbconvert_exporter": "python",
   "pygments_lexer": "ipython3",
   "version": "3.8.12"
  }
 },
 "nbformat": 4,
 "nbformat_minor": 5
}
